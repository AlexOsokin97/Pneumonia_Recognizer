{
 "cells": [
  {
   "cell_type": "code",
   "execution_count": 1,
   "metadata": {},
   "outputs": [],
   "source": [
    "import numpy as np\n",
    "import os\n",
    "import cv2\n",
    "import matplotlib.pyplot as plt\n",
    "import random"
   ]
  },
  {
   "cell_type": "code",
   "execution_count": 2,
   "metadata": {},
   "outputs": [
    {
     "name": "stdout",
     "output_type": "stream",
     "text": [
      "5216\n"
     ]
    }
   ],
   "source": [
    "Data_dir_train = \"./sets/train\"\n",
    "CATEGORIES = [\"NORMAL\", \"PNEUMONIA\"]\n",
    "training_data = []\n",
    "\n",
    "def create_training_data():\n",
    "    for category in CATEGORIES:\n",
    "        path_train = os.path.join(Data_dir_train, category)\n",
    "        class_num = CATEGORIES.index(category)\n",
    "        for img in os.listdir(path_train):\n",
    "            try:\n",
    "                img_array_train = cv2.imread(os.path.join(path_train, img), cv2.IMREAD_GRAYSCALE)\n",
    "                img_array_resized = cv2.resize(img_array_train, (255, 255))\n",
    "                training_data.append([img_array_resized, class_num])\n",
    "            except Exception as e:\n",
    "                print(\"broken img %n\", img)\n",
    "                pass\n",
    "    random.shuffle(training_data)\n",
    "    print(len(training_data))\n",
    "    \n",
    "create_training_data()        "
   ]
  },
  {
   "cell_type": "code",
   "execution_count": 3,
   "metadata": {},
   "outputs": [
    {
     "name": "stdout",
     "output_type": "stream",
     "text": [
      "1\n",
      "1\n",
      "0\n",
      "1\n",
      "0\n",
      "0\n",
      "1\n",
      "1\n",
      "1\n",
      "1\n"
     ]
    }
   ],
   "source": [
    "#check if labeling and shuffling of the data did accure\n",
    "for sample in training_data[:10]:\n",
    "    print(sample[1])"
   ]
  },
  {
   "cell_type": "code",
   "execution_count": 4,
   "metadata": {},
   "outputs": [],
   "source": [
    "def creat_x_y_labels():\n",
    "    X = []\n",
    "    y = []\n",
    "    \n",
    "    for features, label in training_data:\n",
    "        X.append(features)\n",
    "        y.append(label)\n",
    "    \n",
    "    X = np.array(X).reshape(-1, 255, 255, 1)"
   ]
  },
  {
   "cell_type": "code",
   "execution_count": 5,
   "metadata": {},
   "outputs": [
    {
     "name": "stdout",
     "output_type": "stream",
     "text": [
      "639\n"
     ]
    }
   ],
   "source": [
    "Data_dir_test = \"./sets/test\"\n",
    "CATEGORIES = [\"NORMAL\", \"PNEUMONIA\"]\n",
    "test_data = []\n",
    "\n",
    "def create_testing_data():\n",
    "    for category in CATEGORIES:\n",
    "        path_test = os.path.join(Data_dir_test, category)\n",
    "        class_num = CATEGORIES.index(category)\n",
    "        for img in os.listdir(path_test):\n",
    "            try:\n",
    "                img_array_test = cv2.imread(os.path.join(path_test, img), cv2.IMREAD_GRAYSCALE)\n",
    "                img_array_resized = cv2.resize(img_array_test, (255, 255))\n",
    "                test_data.append([img_array_resized, class_num])\n",
    "            except Exception as e:\n",
    "                print(\"broken img %n\", img)\n",
    "                pass\n",
    "    random.shuffle(test_data)\n",
    "    print(len(test_data))\n",
    "    \n",
    "create_testing_data()        "
   ]
  },
  {
   "cell_type": "code",
   "execution_count": 7,
   "metadata": {},
   "outputs": [
    {
     "name": "stdout",
     "output_type": "stream",
     "text": [
      "1\n",
      "1\n",
      "1\n",
      "1\n",
      "0\n",
      "0\n",
      "1\n",
      "1\n",
      "1\n",
      "0\n"
     ]
    }
   ],
   "source": [
    "for sample in test_data[:10]:\n",
    "    print(sample[1])"
   ]
  },
  {
   "cell_type": "code",
   "execution_count": 6,
   "metadata": {},
   "outputs": [],
   "source": [
    "def create_unseen_x_y():\n",
    "    X_UNSEEN = []\n",
    "    y_UNSEEN = []\n",
    "    \n",
    "    for features, labels in test_data:\n",
    "        X_UNSEEN.append(features)\n",
    "        y_UNSEEN.append(labels)\n",
    "        \n",
    "    X_UNSEEN = np.array(X_UNSEEN).reshape(-1, 255, 255, 1)    "
   ]
  },
  {
   "cell_type": "code",
   "execution_count": null,
   "metadata": {},
   "outputs": [],
   "source": []
  },
  {
   "cell_type": "code",
   "execution_count": null,
   "metadata": {},
   "outputs": [],
   "source": []
  },
  {
   "cell_type": "code",
   "execution_count": null,
   "metadata": {},
   "outputs": [],
   "source": []
  },
  {
   "cell_type": "code",
   "execution_count": null,
   "metadata": {},
   "outputs": [],
   "source": []
  },
  {
   "cell_type": "code",
   "execution_count": null,
   "metadata": {},
   "outputs": [],
   "source": []
  },
  {
   "cell_type": "code",
   "execution_count": null,
   "metadata": {},
   "outputs": [],
   "source": []
  },
  {
   "cell_type": "code",
   "execution_count": null,
   "metadata": {},
   "outputs": [],
   "source": []
  },
  {
   "cell_type": "code",
   "execution_count": null,
   "metadata": {},
   "outputs": [],
   "source": []
  }
 ],
 "metadata": {
  "kernelspec": {
   "display_name": "Python 3",
   "language": "python",
   "name": "python3"
  },
  "language_info": {
   "codemirror_mode": {
    "name": "ipython",
    "version": 3
   },
   "file_extension": ".py",
   "mimetype": "text/x-python",
   "name": "python",
   "nbconvert_exporter": "python",
   "pygments_lexer": "ipython3",
   "version": "3.7.6"
  }
 },
 "nbformat": 4,
 "nbformat_minor": 4
}
