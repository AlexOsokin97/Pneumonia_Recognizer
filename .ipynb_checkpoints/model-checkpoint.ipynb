{
 "cells": [
  {
   "cell_type": "code",
   "execution_count": 31,
   "metadata": {
    "colab": {},
    "colab_type": "code",
    "id": "r0979W0zhz9C"
   },
   "outputs": [],
   "source": [
    "#importing the libraries\n",
    "import warnings\n",
    "warnings.simplefilter(action='ignore', category=FutureWarning)\n",
    "import datetime\n",
    "import numpy as np\n",
    "import os\n",
    "import matplotlib.pyplot as plt\n",
    "import tensorflow as tf\n",
    "from tensorflow.keras.models import Sequential\n",
    "from tensorflow.keras.layers import Convolution2D\n",
    "from tensorflow.keras.layers import MaxPooling2D\n",
    "from tensorflow.keras.layers import Flatten\n",
    "from tensorflow.keras.layers import Dense\n",
    "from tensorflow.keras.preprocessing.image import ImageDataGenerator\n",
    "from tensorflow.keras.callbacks import TensorBoard\n",
    "from sklearn.metrics import classification_report, confusion_matrix"
   ]
  },
  {
   "cell_type": "code",
   "execution_count": 85,
   "metadata": {
    "colab": {},
    "colab_type": "code",
    "id": "RZnySgkUhz9F"
   },
   "outputs": [],
   "source": [
    "#Creating the model:\n",
    "recognizer = Sequential()"
   ]
  },
  {
   "cell_type": "code",
   "execution_count": 86,
   "metadata": {
    "colab": {},
    "colab_type": "code",
    "id": "OtZ6ynIjhz9H"
   },
   "outputs": [],
   "source": [
    "#Creating a convolutional and pooling layer\n",
    "recognizer.add(Convolution2D(filters=32, kernel_size=(3,3), padding='same', activation='relu', kernel_initializer='glorot_uniform', bias_initializer='zeros', input_shape=(150, 150,3)))\n",
    "recognizer.add(MaxPooling2D(pool_size=(2,2), padding='same'))   \n",
    "\n",
    "#Creating a convolutional and pooling layer\n",
    "recognizer.add(Convolution2D(filters=32, kernel_size=(3,3), padding='same', activation='relu', kernel_initializer='glorot_uniform', bias_initializer='zeros'))\n",
    "recognizer.add(MaxPooling2D(pool_size=(2,2), padding='same'))        \n",
    "                                         \n",
    "#Creating a convolutional and pooling layer\n",
    "recognizer.add(Convolution2D(filters=64, kernel_size=(3,3), padding='same', activation='relu', kernel_initializer='glorot_uniform', bias_initializer='zeros'))\n",
    "recognizer.add(MaxPooling2D(pool_size=(2,2), padding='same'))                                      \n",
    "                                           \n",
    "#Transforming the pooling layer into a vector where each vector vlue = neuron\n",
    "recognizer.add(Flatten())\n",
    "        \n",
    "#Creating the Artificial Neural Network\n",
    "recognizer.add(Dense(input_dim = 128, units=128, activation='relu'))\n",
    "recognizer.add(Dense(input_dim =64, units= 1, activation='sigmoid'))\n",
    "\n",
    "#Compiling the Neural Network\n",
    "recognizer.compile(optimizer = \"adagrad\" , loss=\"binary_crossentropy\" , metrics=['accuracy'])"
   ]
  },
  {
   "cell_type": "code",
   "execution_count": 87,
   "metadata": {},
   "outputs": [],
   "source": [
    "model_name = \"3_conv2D_x_1_dense_128_64_adagrad\""
   ]
  },
  {
   "cell_type": "code",
   "execution_count": 88,
   "metadata": {},
   "outputs": [],
   "source": [
    "tensorboard = tf.keras.callbacks.TensorBoard(\n",
    "                        log_dir=\"logs\\{}\".format(model_name),\n",
    "                        histogram_freq=0,\n",
    "                        write_graph=True,\n",
    "                        write_images=False,\n",
    "                        update_freq=\"epoch\",\n",
    "                        profile_batch=2,\n",
    "                        embeddings_freq=0,\n",
    "                        embeddings_metadata=None,\n",
    "                )"
   ]
  },
  {
   "cell_type": "code",
   "execution_count": 89,
   "metadata": {
    "colab": {
     "base_uri": "https://localhost:8080/",
     "height": 34
    },
    "colab_type": "code",
    "executionInfo": {
     "elapsed": 19776,
     "status": "ok",
     "timestamp": 1590808140244,
     "user": {
      "displayName": "Alexander Osokin",
      "photoUrl": "https://lh3.googleusercontent.com/a-/AOh14GhH0y6_WUWPubyOFANB0wsZ4T-as7r05wGbDkANXg=s64",
      "userId": "05637864595784784958"
     },
     "user_tz": -180
    },
    "id": "O0oZ8YfRhz9K",
    "outputId": "38fe9074-6805-45ab-953c-16ada10339a1"
   },
   "outputs": [
    {
     "name": "stdout",
     "output_type": "stream",
     "text": [
      "Found 5217 images belonging to 2 classes.\n"
     ]
    }
   ],
   "source": [
    "train_datagen = ImageDataGenerator(rescale=1./255,\n",
    "                                   rotation_range=40,\n",
    "                                   width_shift_range=0.2,\n",
    "                                   height_shift_range=0.2,\n",
    "                                   shear_range=0.2,\n",
    "                                   zoom_range=0.2,\n",
    "                                   horizontal_flip=True)\n",
    "                                    \n",
    "training_set = train_datagen.flow_from_directory('sets/train',\n",
    "                                                  target_size=(150, 150),\n",
    "                                                  batch_size=32,\n",
    "                                                  class_mode='binary') "
   ]
  },
  {
   "cell_type": "code",
   "execution_count": 90,
   "metadata": {
    "colab": {
     "base_uri": "https://localhost:8080/",
     "height": 34
    },
    "colab_type": "code",
    "executionInfo": {
     "elapsed": 2432,
     "status": "ok",
     "timestamp": 1590808145003,
     "user": {
      "displayName": "Alexander Osokin",
      "photoUrl": "https://lh3.googleusercontent.com/a-/AOh14GhH0y6_WUWPubyOFANB0wsZ4T-as7r05wGbDkANXg=s64",
      "userId": "05637864595784784958"
     },
     "user_tz": -180
    },
    "id": "Qnuf6-T2hz9M",
    "outputId": "1d9ed7f2-837a-41a9-b594-5fe8ce34b772"
   },
   "outputs": [
    {
     "name": "stdout",
     "output_type": "stream",
     "text": [
      "Found 639 images belonging to 2 classes.\n"
     ]
    }
   ],
   "source": [
    "test_datagen = ImageDataGenerator(rescale=1./255)\n",
    "\n",
    "testing_set = test_datagen.flow_from_directory('sets/test',\n",
    "                                                   target_size=(150, 150),\n",
    "                                                   batch_size=32,\n",
    "                                                   class_mode='binary') "
   ]
  },
  {
   "cell_type": "code",
   "execution_count": 91,
   "metadata": {
    "colab": {
     "base_uri": "https://localhost:8080/",
     "height": 51
    },
    "colab_type": "code",
    "id": "-FS2pMr4hz9S",
    "outputId": "83562d11-6d2e-49ef-a661-6ed7b56565b0"
   },
   "outputs": [
    {
     "name": "stdout",
     "output_type": "stream",
     "text": [
      "WARNING:tensorflow:sample_weight modes were coerced from\n",
      "  ...\n",
      "    to  \n",
      "  ['...']\n",
      "WARNING:tensorflow:sample_weight modes were coerced from\n",
      "  ...\n",
      "    to  \n",
      "  ['...']\n",
      "Train for 164 steps, validate for 20 steps\n",
      "Epoch 1/10\n",
      "164/164 [==============================] - 84s 515ms/step - loss: 0.4945 - accuracy: 0.7587 - val_loss: 0.5382 - val_accuracy: 0.7246\n",
      "Epoch 2/10\n",
      "164/164 [==============================] - 85s 516ms/step - loss: 0.3693 - accuracy: 0.8284 - val_loss: 0.6395 - val_accuracy: 0.7230\n",
      "Epoch 3/10\n",
      "164/164 [==============================] - 85s 515ms/step - loss: 0.3340 - accuracy: 0.8457 - val_loss: 0.4449 - val_accuracy: 0.8200\n",
      "Epoch 4/10\n",
      "164/164 [==============================] - 84s 514ms/step - loss: 0.3087 - accuracy: 0.8679 - val_loss: 0.4188 - val_accuracy: 0.8357\n",
      "Epoch 5/10\n",
      "164/164 [==============================] - 84s 511ms/step - loss: 0.2844 - accuracy: 0.8766 - val_loss: 0.4381 - val_accuracy: 0.8404\n",
      "Epoch 6/10\n",
      "164/164 [==============================] - 84s 514ms/step - loss: 0.2752 - accuracy: 0.8825 - val_loss: 0.3622 - val_accuracy: 0.8576\n",
      "Epoch 7/10\n",
      "164/164 [==============================] - 84s 515ms/step - loss: 0.2636 - accuracy: 0.8854 - val_loss: 0.3941 - val_accuracy: 0.8623\n",
      "Epoch 8/10\n",
      "164/164 [==============================] - 84s 512ms/step - loss: 0.2552 - accuracy: 0.8896 - val_loss: 0.3817 - val_accuracy: 0.8638\n",
      "Epoch 9/10\n",
      "164/164 [==============================] - 84s 511ms/step - loss: 0.2598 - accuracy: 0.8881 - val_loss: 0.3469 - val_accuracy: 0.8592\n",
      "Epoch 10/10\n",
      "164/164 [==============================] - 84s 514ms/step - loss: 0.2534 - accuracy: 0.8909 - val_loss: 0.3579 - val_accuracy: 0.8607\n"
     ]
    },
    {
     "data": {
      "text/plain": [
       "<tensorflow.python.keras.callbacks.History at 0x16b6fa6bf60>"
      ]
     },
     "execution_count": 91,
     "metadata": {},
     "output_type": "execute_result"
    }
   ],
   "source": [
    "recognizer.fit(\n",
    "            training_set,\n",
    "            epochs=10,\n",
    "            callbacks=[tensorboard],\n",
    "            validation_data=testing_set,\n",
    "            )"
   ]
  },
  {
   "cell_type": "code",
   "execution_count": 92,
   "metadata": {},
   "outputs": [
    {
     "name": "stdout",
     "output_type": "stream",
     "text": [
      "WARNING:tensorflow:sample_weight modes were coerced from\n",
      "  ...\n",
      "    to  \n",
      "  ['...']\n",
      "20/20 [==============================] - 7s 328ms/step - loss: 0.3579 - accuracy: 0.8607\n"
     ]
    }
   ],
   "source": [
    "test_accu = recognizer.evaluate(testing_set,steps=20)"
   ]
  },
  {
   "cell_type": "code",
   "execution_count": 93,
   "metadata": {},
   "outputs": [
    {
     "name": "stdout",
     "output_type": "stream",
     "text": [
      "Model's Accuracy is:  86 %\n",
      "Model's Loss is:  35 %\n"
     ]
    }
   ],
   "source": [
    "print(\"Model's Accuracy is: \", int(test_accu[1]*100),\"%\")\n",
    "print(\"Model's Loss is: \", int(test_accu[0]*100),\"%\")"
   ]
  },
  {
   "cell_type": "code",
   "execution_count": 94,
   "metadata": {},
   "outputs": [
    {
     "data": {
      "image/png": "[encoded data removed]",
      "text/plain": [
       "<Figure size 432x288 with 1 Axes>"
      ]
     },
     "metadata": {
      "needs_background": "light"
     },
     "output_type": "display_data"
    }
   ],
   "source": [
    "# Accuracy \n",
    "fig, ax = plt.subplots(1,1)\n",
    "ax.plot(recognizer.history.history['accuracy'])\n",
    "ax.plot(recognizer.history.history['val_accuracy'])\n",
    "ax.set_title('Model Accuracy')\n",
    "ax.set_ylabel('Accuracy')\n",
    "ax.set_xlabel('Epoch')\n",
    "ax.legend(['Training set', 'Validation set'], loc='lower right')\n",
    "fig.savefig(\"{}_Accuracy.png\".format(model_name))"
   ]
  },
  {
   "cell_type": "code",
   "execution_count": 95,
   "metadata": {},
   "outputs": [
    {
     "data": {
      "image/png": "[encoded data removed]",
      "text/plain": [
       "<Figure size 432x288 with 1 Axes>"
      ]
     },
     "metadata": {
      "needs_background": "light"
     },
     "output_type": "display_data"
    }
   ],
   "source": [
    "fig, ax = plt.subplots(1,1)\n",
    "ax.plot(recognizer.history.history['loss'])\n",
    "ax.plot(recognizer.history.history['val_loss'])\n",
    "ax.set_title('Model Loss')\n",
    "ax.set_ylabel('Loss')\n",
    "ax.set_xlabel('Epoch')\n",
    "ax.legend(['Training set', 'Test set'], loc='upper right')\n",
    "fig.savefig(\"{}_loss.png\".format(model_name))"
   ]
  },
  {
   "cell_type": "code",
   "execution_count": 96,
   "metadata": {},
   "outputs": [
    {
     "name": "stdout",
     "output_type": "stream",
     "text": [
      "Model: \"sequential_3\"\n",
      "_________________________________________________________________\n",
      "Layer (type)                 Output Shape              Param #   \n",
      "=================================================================\n",
      "conv2d_7 (Conv2D)            (None, 150, 150, 32)      896       \n",
      "_________________________________________________________________\n",
      "max_pooling2d_7 (MaxPooling2 (None, 75, 75, 32)        0         \n",
      "_________________________________________________________________\n",
      "conv2d_8 (Conv2D)            (None, 75, 75, 32)        9248      \n",
      "_________________________________________________________________\n",
      "max_pooling2d_8 (MaxPooling2 (None, 38, 38, 32)        0         \n",
      "_________________________________________________________________\n",
      "conv2d_9 (Conv2D)            (None, 38, 38, 64)        18496     \n",
      "_________________________________________________________________\n",
      "max_pooling2d_9 (MaxPooling2 (None, 19, 19, 64)        0         \n",
      "_________________________________________________________________\n",
      "flatten_3 (Flatten)          (None, 23104)             0         \n",
      "_________________________________________________________________\n",
      "dense_8 (Dense)              (None, 128)               2957440   \n",
      "_________________________________________________________________\n",
      "dense_9 (Dense)              (None, 1)                 129       \n",
      "=================================================================\n",
      "Total params: 2,986,209\n",
      "Trainable params: 2,986,209\n",
      "Non-trainable params: 0\n",
      "_________________________________________________________________\n"
     ]
    }
   ],
   "source": [
    "recognizer.summary()"
   ]
  },
  {
   "cell_type": "code",
   "execution_count": 97,
   "metadata": {},
   "outputs": [],
   "source": [
    "from contextlib import redirect_stdout\n",
    "\n",
    "with open('modelsummary.txt', 'w') as f:\n",
    "    with redirect_stdout(f):\n",
    "        recognizer.summary()"
   ]
  }
 ],
 "metadata": {
  "accelerator": "GPU",
  "colab": {
   "collapsed_sections": [],
   "name": "model.ipynb",
   "provenance": []
  },
  "kernelspec": {
   "display_name": "Python 3",
   "language": "python",
   "name": "python3"
  },
  "language_info": {
   "codemirror_mode": {
    "name": "ipython",
    "version": 3
   },
   "file_extension": ".py",
   "mimetype": "text/x-python",
   "name": "python",
   "nbconvert_exporter": "python",
   "pygments_lexer": "ipython3",
   "version": "3.7.0"
  }
 },
 "nbformat": 4,
 "nbformat_minor": 4
}
